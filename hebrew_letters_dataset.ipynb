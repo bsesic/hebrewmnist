{
 "cells": [
  {
   "cell_type": "markdown",
   "source": [
    "# Hebrew letter MNIST Dataset\n",
    "\n",
    "**Important notice**: Use conda environment tf-m1 with python3.9\n",
    "\n",
    "Tensorflow for mac needs to be installed.\n",
    "\n",
    "\n",
    "# Create a conda environment\n",
    "conda create -n tf-m1 python=3.9\n",
    "conda activate tf-m1\n",
    "\n",
    "# Install TensorFlow dependencies\n",
    "conda install -c apple tensorflow-deps\n",
    "\n",
    "# Install TensorFlow and Metal API support\n",
    "pip install tensorflow-macos\n",
    "pip install tensorflow-metal\n",
    "\n",
    "# Verify the installation\n",
    "python -c \"import tensorflow as tf; print(tf.__version__); print(tf.config.list_physical_devices('GPU'))\""
   ],
   "metadata": {
    "collapsed": false
   }
  },
  {
   "cell_type": "markdown",
   "source": [
    "# load the files with the extracted letters"
   ],
   "metadata": {
    "collapsed": false
   }
  },
  {
   "cell_type": "markdown",
   "source": [
    "# load the excel file for the description of the letters"
   ],
   "metadata": {
    "collapsed": false
   }
  },
  {
   "cell_type": "markdown",
   "source": [
    "# load the files for the image extraction\n"
   ],
   "metadata": {
    "collapsed": false
   }
  },
  {
   "cell_type": "code",
   "execution_count": null,
   "outputs": [],
   "source": [
    "!pip install numpy\n",
    "!pip install tensorflow\n"
   ],
   "metadata": {
    "collapsed": false,
    "is_executing": true
   }
  },
  {
   "cell_type": "markdown",
   "source": [
    "# Import"
   ],
   "metadata": {
    "collapsed": false
   }
  },
  {
   "cell_type": "code",
   "execution_count": 2,
   "outputs": [],
   "source": [
    "import tensorflow as tf\n",
    "from tensorflow.keras import layers, models\n",
    "import matplotlib.pyplot as plt\n"
   ],
   "metadata": {
    "collapsed": false,
    "ExecuteTime": {
     "end_time": "2024-10-05T08:20:32.096695Z",
     "start_time": "2024-10-05T08:20:28.568675Z"
    }
   }
  },
  {
   "cell_type": "markdown",
   "source": [
    "# Load the MNIST dataset"
   ],
   "metadata": {
    "collapsed": false
   }
  },
  {
   "cell_type": "code",
   "execution_count": 3,
   "outputs": [
    {
     "name": "stdout",
     "output_type": "stream",
     "text": [
      "Downloading data from https://storage.googleapis.com/tensorflow/tf-keras-datasets/mnist.npz\n",
      "\u001B[1m11490434/11490434\u001B[0m \u001B[32m━━━━━━━━━━━━━━━━━━━━\u001B[0m\u001B[37m\u001B[0m \u001B[1m2s\u001B[0m 0us/step\n"
     ]
    }
   ],
   "source": [
    "# Load the dataset\n",
    "mnist = tf.keras.datasets.mnist\n",
    "\n",
    "# Split into training and testing datasets\n",
    "(x_train, y_train), (x_test, y_test) = mnist.load_data()\n",
    "\n",
    "# Normalize the data (convert from int to float and scale to 0-1 range)\n",
    "x_train, x_test = x_train / 255.0, x_test / 255.0\n"
   ],
   "metadata": {
    "collapsed": false,
    "ExecuteTime": {
     "end_time": "2024-10-05T08:20:40.335337Z",
     "start_time": "2024-10-05T08:20:36.370580Z"
    }
   }
  },
  {
   "cell_type": "markdown",
   "source": [
    "# Visualize the data"
   ],
   "metadata": {
    "collapsed": false
   }
  },
  {
   "cell_type": "code",
   "execution_count": 4,
   "outputs": [
    {
     "data": {
      "text/plain": "<Figure size 640x480 with 1 Axes>",
      "image/png": "[encoded data removed]"
     },
     "metadata": {},
     "output_type": "display_data"
    }
   ],
   "source": [
    "plt.imshow(x_train[0], cmap=\"gray\")\n",
    "plt.show()\n"
   ],
   "metadata": {
    "collapsed": false,
    "ExecuteTime": {
     "end_time": "2024-10-05T08:20:44.820636Z",
     "start_time": "2024-10-05T08:20:43.740877Z"
    }
   }
  },
  {
   "cell_type": "markdown",
   "source": [
    "# Build the model"
   ],
   "metadata": {
    "collapsed": false
   }
  },
  {
   "cell_type": "code",
   "execution_count": 5,
   "outputs": [
    {
     "name": "stderr",
     "output_type": "stream",
     "text": [
      "/Users/benni/miniconda3/envs/tf-m1/lib/python3.9/site-packages/keras/src/layers/reshaping/flatten.py:37: UserWarning: Do not pass an `input_shape`/`input_dim` argument to a layer. When using Sequential models, prefer using an `Input(shape)` object as the first layer in the model instead.\n",
      "  super().__init__(**kwargs)\n",
      "2024-10-05 10:20:58.613449: I metal_plugin/src/device/metal_device.cc:1154] Metal device set to: Apple M1 Pro\n",
      "2024-10-05 10:20:58.613840: I metal_plugin/src/device/metal_device.cc:296] systemMemory: 16.00 GB\n",
      "2024-10-05 10:20:58.613861: I metal_plugin/src/device/metal_device.cc:313] maxCacheSize: 5.33 GB\n",
      "2024-10-05 10:20:58.615605: I tensorflow/core/common_runtime/pluggable_device/pluggable_device_factory.cc:305] Could not identify NUMA node of platform GPU ID 0, defaulting to 0. Your kernel may not have been built with NUMA support.\n",
      "2024-10-05 10:20:58.615682: I tensorflow/core/common_runtime/pluggable_device/pluggable_device_factory.cc:271] Created TensorFlow device (/job:localhost/replica:0/task:0/device:GPU:0 with 0 MB memory) -> physical PluggableDevice (device: 0, name: METAL, pci bus id: <undefined>)\n"
     ]
    }
   ],
   "source": [
    "model = models.Sequential([\n",
    "    layers.Flatten(input_shape=(28, 28)),    # Flatten the 28x28 images into a 784 vector\n",
    "    layers.Dense(128, activation='relu'),    # Hidden layer with 128 neurons\n",
    "    layers.Dropout(0.2),                     # Dropout to prevent overfitting\n",
    "    layers.Dense(10, activation='softmax')   # Output layer with 10 neurons (one per class)\n",
    "])\n"
   ],
   "metadata": {
    "collapsed": false,
    "ExecuteTime": {
     "end_time": "2024-10-05T08:21:00.946190Z",
     "start_time": "2024-10-05T08:20:58.539677Z"
    }
   }
  },
  {
   "cell_type": "markdown",
   "source": [
    "# Compile the model"
   ],
   "metadata": {
    "collapsed": false
   }
  },
  {
   "cell_type": "code",
   "execution_count": 6,
   "outputs": [],
   "source": [
    "model.compile(optimizer='adam',\n",
    "              loss='sparse_categorical_crossentropy',\n",
    "              metrics=['accuracy'])\n"
   ],
   "metadata": {
    "collapsed": false,
    "ExecuteTime": {
     "end_time": "2024-10-05T08:21:09.520069Z",
     "start_time": "2024-10-05T08:21:09.065307Z"
    }
   }
  },
  {
   "cell_type": "markdown",
   "source": [
    "# Train the model"
   ],
   "metadata": {
    "collapsed": false
   }
  },
  {
   "cell_type": "code",
   "execution_count": null,
   "outputs": [
    {
     "name": "stdout",
     "output_type": "stream",
     "text": [
      "Epoch 1/5\n",
      "\u001B[1m1875/1875\u001B[0m \u001B[32m━━━━━━━━━━━━━━━━━━━━\u001B[0m\u001B[37m\u001B[0m \u001B[1m61s\u001B[0m 32ms/step - accuracy: 0.9794 - loss: 0.0651\n",
      "Epoch 2/5\n",
      "\u001B[1m 526/1875\u001B[0m \u001B[32m━━━━━\u001B[0m\u001B[37m━━━━━━━━━━━━━━━\u001B[0m \u001B[1m42s\u001B[0m 32ms/step - accuracy: 0.9831 - loss: 0.0577"
     ]
    }
   ],
   "source": [
    "model.fit(x_train, y_train, epochs=5, batch_size=32)"
   ],
   "metadata": {
    "collapsed": false,
    "is_executing": true,
    "ExecuteTime": {
     "start_time": "2024-10-05T08:47:29.872575Z"
    }
   }
  },
  {
   "cell_type": "markdown",
   "source": [
    "Evaluate the model"
   ],
   "metadata": {
    "collapsed": false
   }
  },
  {
   "cell_type": "code",
   "execution_count": null,
   "outputs": [],
   "source": [
    "test_loss, test_acc = model.evaluate(x_test, y_test)\n",
    "print('\\nTest accuracy:', test_acc)"
   ],
   "metadata": {
    "collapsed": false,
    "is_executing": true
   }
  },
  {
   "cell_type": "markdown",
   "source": [
    "# Save the model"
   ],
   "metadata": {
    "collapsed": false
   }
  },
  {
   "cell_type": "code",
   "execution_count": null,
   "outputs": [],
   "source": [
    "model.save('mnist_model.h5')"
   ],
   "metadata": {
    "collapsed": false,
    "is_executing": true
   }
  },
  {
   "cell_type": "code",
   "execution_count": 2,
   "outputs": [],
   "source": [
    "letters = u'אבגדהוזחטיכךלמםנןסעפףצץקרשת'"
   ],
   "metadata": {
    "collapsed": false,
    "ExecuteTime": {
     "end_time": "2024-10-04T18:55:23.905779Z",
     "start_time": "2024-10-04T18:55:23.890714Z"
    }
   }
  },
  {
   "cell_type": "code",
   "execution_count": 11,
   "outputs": [],
   "source": [
    "import tensorflow as tf\n",
    "import os\n",
    "\n",
    "image_directory = 'hebrew_letters'\n",
    "image_paths = [os.path.join(image_directory, filename) for filename in os.listdir(image_directory)]\n",
    "dataset = tf.data.Dataset.from_tensor_slices(image_paths)\n",
    "\n",
    "def load_image(image_path):\n",
    "    image = tf.io.read_file(image_path)\n",
    "    image = tf.image.decode_jpeg(image, channels=3)  # Change 'channels' to 1 for grayscale images\n",
    "    # Add any additional preprocessing steps here (e.g., resizing, normalizing)\n",
    "    return image\n",
    "\n",
    "dataset = dataset.map(load_image)\n",
    "\n",
    "dataset = dataset.shuffle(buffer_size=len(image_paths))\n",
    "batch_size = 32  # Specify your desired batch size\n",
    "dataset = dataset.batch(batch_size)\n",
    "\n",
    "dataset = dataset.prefetch(buffer_size=tf.data.experimental.AUTOTUNE)\n"
   ],
   "metadata": {
    "collapsed": false,
    "ExecuteTime": {
     "end_time": "2024-10-05T08:54:10.977563Z",
     "start_time": "2024-10-05T08:54:10.202600Z"
    }
   }
  },
  {
   "cell_type": "code",
   "execution_count": null,
   "outputs": [],
   "source": [
    "print(dataset)"
   ],
   "metadata": {
    "collapsed": false
   }
  },
  {
   "cell_type": "markdown",
   "source": [
    "# Load and preprocess the images"
   ],
   "metadata": {
    "collapsed": false
   }
  },
  {
   "cell_type": "code",
   "execution_count": 15,
   "outputs": [
    {
     "name": "stdout",
     "output_type": "stream",
     "text": [
      "Found 307 files belonging to 28 classes.\n"
     ]
    }
   ],
   "source": [
    "import tensorflow as tf\n",
    "from tensorflow.keras.preprocessing import image_dataset_from_directory\n",
    "\n",
    "# Define the path to your dataset\n",
    "dataset_path = 'hebrew_letters'\n",
    "\n",
    "# Load the dataset\n",
    "img_height = 128  # Set the desired image height\n",
    "img_width = 128   # Set the desired image width\n",
    "batch_size = 32  # Batch size for training\n",
    "\n",
    "# Load the training dataset\n",
    "train_dataset = image_dataset_from_directory(\n",
    "    dataset_path,\n",
    "    image_size=(img_height, img_width),\n",
    "    batch_size=batch_size,\n",
    "    label_mode='categorical'  # Use categorical if you have more than 2 classes\n",
    ")\n",
    "\n",
    "# Split the dataset into training and validation sets (80% train, 20% val)\n",
    "train_size = 0.8\n",
    "val_size = 0.2\n",
    "train_dataset = train_dataset.take(int(train_size * len(train_dataset)))\n",
    "val_dataset = train_dataset.skip(int(val_size * len(train_dataset)))\n",
    "\n",
    "# Normalize the images\n",
    "normalization_layer = tf.keras.layers.Rescaling(1./255)\n",
    "\n",
    "train_dataset = train_dataset.map(lambda x, y: (normalization_layer(x), y))\n",
    "val_dataset = val_dataset.map(lambda x, y: (normalization_layer(x), y))\n"
   ],
   "metadata": {
    "collapsed": false,
    "ExecuteTime": {
     "end_time": "2024-10-05T09:05:17.467755Z",
     "start_time": "2024-10-05T09:05:15.678682Z"
    }
   }
  },
  {
   "cell_type": "markdown",
   "source": [
    "# Build a CNN MOdel"
   ],
   "metadata": {
    "collapsed": false
   }
  },
  {
   "cell_type": "code",
   "execution_count": 19,
   "outputs": [
    {
     "ename": "AttributeError",
     "evalue": "'_MapDataset' object has no attribute 'class_names'",
     "output_type": "error",
     "traceback": [
      "\u001B[0;31m---------------------------------------------------------------------------\u001B[0m",
      "\u001B[0;31mAttributeError\u001B[0m                            Traceback (most recent call last)",
      "Cell \u001B[0;32mIn[19], line 15\u001B[0m\n\u001B[1;32m      1\u001B[0m \u001B[38;5;28;01mfrom\u001B[39;00m \u001B[38;5;21;01mtensorflow\u001B[39;00m\u001B[38;5;21;01m.\u001B[39;00m\u001B[38;5;21;01mkeras\u001B[39;00m \u001B[38;5;28;01mimport\u001B[39;00m layers, models\n\u001B[1;32m      4\u001B[0m \u001B[38;5;66;03m# Create the CNN model\u001B[39;00m\n\u001B[1;32m      5\u001B[0m model \u001B[38;5;241m=\u001B[39m models\u001B[38;5;241m.\u001B[39mSequential([\n\u001B[1;32m      6\u001B[0m     layers\u001B[38;5;241m.\u001B[39mConv2D(\u001B[38;5;241m32\u001B[39m, (\u001B[38;5;241m3\u001B[39m, \u001B[38;5;241m3\u001B[39m), activation\u001B[38;5;241m=\u001B[39m\u001B[38;5;124m'\u001B[39m\u001B[38;5;124mrelu\u001B[39m\u001B[38;5;124m'\u001B[39m, input_shape\u001B[38;5;241m=\u001B[39m(img_height, img_width, \u001B[38;5;241m3\u001B[39m)),\n\u001B[1;32m      7\u001B[0m     layers\u001B[38;5;241m.\u001B[39mMaxPooling2D((\u001B[38;5;241m2\u001B[39m, \u001B[38;5;241m2\u001B[39m)),\n\u001B[1;32m      8\u001B[0m     layers\u001B[38;5;241m.\u001B[39mConv2D(\u001B[38;5;241m64\u001B[39m, (\u001B[38;5;241m3\u001B[39m, \u001B[38;5;241m3\u001B[39m), activation\u001B[38;5;241m=\u001B[39m\u001B[38;5;124m'\u001B[39m\u001B[38;5;124mrelu\u001B[39m\u001B[38;5;124m'\u001B[39m),\n\u001B[1;32m      9\u001B[0m     layers\u001B[38;5;241m.\u001B[39mMaxPooling2D((\u001B[38;5;241m2\u001B[39m, \u001B[38;5;241m2\u001B[39m)),\n\u001B[1;32m     10\u001B[0m     layers\u001B[38;5;241m.\u001B[39mConv2D(\u001B[38;5;241m128\u001B[39m, (\u001B[38;5;241m3\u001B[39m, \u001B[38;5;241m3\u001B[39m), activation\u001B[38;5;241m=\u001B[39m\u001B[38;5;124m'\u001B[39m\u001B[38;5;124mrelu\u001B[39m\u001B[38;5;124m'\u001B[39m),\n\u001B[1;32m     11\u001B[0m     layers\u001B[38;5;241m.\u001B[39mMaxPooling2D((\u001B[38;5;241m2\u001B[39m, \u001B[38;5;241m2\u001B[39m)),\n\u001B[1;32m     12\u001B[0m     layers\u001B[38;5;241m.\u001B[39mFlatten(),\n\u001B[1;32m     13\u001B[0m     layers\u001B[38;5;241m.\u001B[39mDense(\u001B[38;5;241m128\u001B[39m, activation\u001B[38;5;241m=\u001B[39m\u001B[38;5;124m'\u001B[39m\u001B[38;5;124mrelu\u001B[39m\u001B[38;5;124m'\u001B[39m),\n\u001B[1;32m     14\u001B[0m     layers\u001B[38;5;241m.\u001B[39mDropout(\u001B[38;5;241m0.5\u001B[39m),  \u001B[38;5;66;03m# Regularization to avoid overfitting\u001B[39;00m\n\u001B[0;32m---> 15\u001B[0m     layers\u001B[38;5;241m.\u001B[39mDense(\u001B[38;5;28mlen\u001B[39m(\u001B[43mtrain_dataset\u001B[49m\u001B[38;5;241;43m.\u001B[39;49m\u001B[43mclass_names\u001B[49m), activation\u001B[38;5;241m=\u001B[39m\u001B[38;5;124m'\u001B[39m\u001B[38;5;124msoftmax\u001B[39m\u001B[38;5;124m'\u001B[39m)  \u001B[38;5;66;03m# Output layer: one per class\u001B[39;00m\n\u001B[1;32m     16\u001B[0m ])\n\u001B[1;32m     18\u001B[0m \u001B[38;5;66;03m# Compile the model\u001B[39;00m\n\u001B[1;32m     19\u001B[0m model\u001B[38;5;241m.\u001B[39mcompile(optimizer\u001B[38;5;241m=\u001B[39m\u001B[38;5;124m'\u001B[39m\u001B[38;5;124madam\u001B[39m\u001B[38;5;124m'\u001B[39m,\n\u001B[1;32m     20\u001B[0m               loss\u001B[38;5;241m=\u001B[39m\u001B[38;5;124m'\u001B[39m\u001B[38;5;124mcategorical_crossentropy\u001B[39m\u001B[38;5;124m'\u001B[39m,  \u001B[38;5;66;03m# Use categorical crossentropy for multi-class classification\u001B[39;00m\n\u001B[1;32m     21\u001B[0m               metrics\u001B[38;5;241m=\u001B[39m[\u001B[38;5;124m'\u001B[39m\u001B[38;5;124maccuracy\u001B[39m\u001B[38;5;124m'\u001B[39m])\n",
      "\u001B[0;31mAttributeError\u001B[0m: '_MapDataset' object has no attribute 'class_names'"
     ]
    }
   ],
   "source": [
    "from tensorflow.keras import layers, models\n",
    "\n",
    "\n",
    "# Create the CNN model\n",
    "model = models.Sequential([\n",
    "    layers.Conv2D(32, (3, 3), activation='relu', input_shape=(img_height, img_width, 3)),\n",
    "    layers.MaxPooling2D((2, 2)),\n",
    "    layers.Conv2D(64, (3, 3), activation='relu'),\n",
    "    layers.MaxPooling2D((2, 2)),\n",
    "    layers.Conv2D(128, (3, 3), activation='relu'),\n",
    "    layers.MaxPooling2D((2, 2)),\n",
    "    layers.Flatten(),\n",
    "    layers.Dense(128, activation='relu'),\n",
    "    layers.Dropout(0.5),  # Regularization to avoid overfitting\n",
    "    layers.Dense(len(train_dataset.class_names), activation='softmax')  # Output layer: one per class\n",
    "])\n",
    "\n",
    "# Compile the model\n",
    "model.compile(optimizer='adam',\n",
    "              loss='categorical_crossentropy',  # Use categorical crossentropy for multi-class classification\n",
    "              metrics=['accuracy'])\n",
    "\n",
    "# View the model summary\n",
    "model.summary()\n"
   ],
   "metadata": {
    "collapsed": false,
    "ExecuteTime": {
     "end_time": "2024-10-05T09:10:02.823313Z",
     "start_time": "2024-10-05T09:10:02.710313Z"
    }
   }
  },
  {
   "cell_type": "code",
   "execution_count": null,
   "outputs": [],
   "source": [],
   "metadata": {
    "collapsed": false
   }
  },
  {
   "cell_type": "code",
   "execution_count": 18,
   "outputs": [
    {
     "name": "stdout",
     "output_type": "stream",
     "text": [
      "Found 307 files belonging to 28 classes.\n",
      "Class names: ['stop', 'א', 'ב', 'ג', 'ד', 'ה', 'ו', 'ז', 'ח', 'ט', 'י', 'ך', 'כ', 'ל', 'ם', 'מ', 'ן', 'נ', 'ס', 'ע', 'ף', 'פ', 'ץ', 'צ', 'ק', 'ר', 'ש', 'ת']\n"
     ]
    }
   ],
   "source": [
    "import tensorflow as tf\n",
    "from tensorflow.keras.preprocessing import image_dataset_from_directory\n",
    "\n",
    "# Define the path to your dataset\n",
    "dataset_path = 'hebrew_letters'\n",
    "\n",
    "# Define image size (you can adjust these as needed)\n",
    "img_height = 64  # Set the desired image height\n",
    "img_width = 64   # Set the desired image width\n",
    "batch_size = 32  # Batch size for training\n",
    "\n",
    "# Load the dataset\n",
    "train_dataset = image_dataset_from_directory(\n",
    "    dataset_path,\n",
    "    image_size=(img_height, img_width),  # Resize images to (64, 64)\n",
    "    batch_size=batch_size,\n",
    "    label_mode='categorical'  # Multi-class classification\n",
    ")\n",
    "\n",
    "# Retrieve the class names (labels)\n",
    "class_names = train_dataset.class_names\n",
    "print(\"Class names:\", class_names)\n",
    "\n",
    "# Split the dataset into training and validation sets (80% train, 20% val)\n",
    "train_size = 0.8\n",
    "val_size = 0.2\n",
    "train_dataset = train_dataset.take(int(train_size * len(train_dataset)))\n",
    "val_dataset = train_dataset.skip(int(val_size * len(train_dataset)))\n",
    "\n",
    "# Normalize the images (rescaling pixel values between 0 and 1)\n",
    "normalization_layer = tf.keras.layers.Rescaling(1./255)\n",
    "train_dataset = train_dataset.map(lambda x, y: (normalization_layer(x), y))\n",
    "val_dataset = val_dataset.map(lambda x, y: (normalization_layer(x), y))\n",
    "\n",
    "# Now, you can access the `class_names` when needed\n"
   ],
   "metadata": {
    "collapsed": false,
    "ExecuteTime": {
     "end_time": "2024-10-05T09:09:42.751455Z",
     "start_time": "2024-10-05T09:09:42.503418Z"
    }
   }
  },
  {
   "cell_type": "markdown",
   "source": [
    "# Create a CNN model"
   ],
   "metadata": {
    "collapsed": false
   }
  },
  {
   "cell_type": "code",
   "execution_count": 21,
   "outputs": [],
   "source": [
    "model = models.Sequential([\n",
    "    layers.Conv2D(32, (3, 3), activation='relu', input_shape=(img_height, img_width, 3)),\n",
    "    layers.MaxPooling2D((2, 2)),\n",
    "    layers.Conv2D(64, (3, 3), activation='relu'),\n",
    "    layers.MaxPooling2D((2, 2)),\n",
    "    layers.Conv2D(128, (3, 3), activation='relu'),\n",
    "    layers.MaxPooling2D((2, 2)),\n",
    "    layers.Flatten(),\n",
    "    layers.Dense(128, activation='relu'),\n",
    "    layers.Dropout(0.5),  # Dropout to reduce overfitting\n",
    "    layers.Dense(len(class_names), activation='softmax')  # Output layer with 28 classes\n",
    "])\n"
   ],
   "metadata": {
    "collapsed": false,
    "ExecuteTime": {
     "end_time": "2024-10-05T09:15:42.563356Z",
     "start_time": "2024-10-05T09:15:42.075511Z"
    }
   }
  },
  {
   "cell_type": "markdown",
   "source": [
    "# Compile the model"
   ],
   "metadata": {
    "collapsed": false
   }
  },
  {
   "cell_type": "code",
   "execution_count": 22,
   "outputs": [],
   "source": [
    "model.compile(optimizer='adam',\n",
    "              loss='categorical_crossentropy',\n",
    "              metrics=['accuracy'])"
   ],
   "metadata": {
    "collapsed": false,
    "ExecuteTime": {
     "end_time": "2024-10-05T09:15:45.310435Z",
     "start_time": "2024-10-05T09:15:45.018701Z"
    }
   }
  },
  {
   "cell_type": "markdown",
   "source": [
    "# Train the model"
   ],
   "metadata": {
    "collapsed": false
   }
  },
  {
   "cell_type": "code",
   "execution_count": 23,
   "outputs": [
    {
     "name": "stdout",
     "output_type": "stream",
     "text": [
      "Epoch 1/10\n",
      "\u001B[1m8/8\u001B[0m \u001B[32m━━━━━━━━━━━━━━━━━━━━\u001B[0m\u001B[37m\u001B[0m \u001B[1m11s\u001B[0m 275ms/step - accuracy: 0.0421 - loss: 3.3550 - val_accuracy: 0.0580 - val_loss: 3.3068\n",
      "Epoch 2/10\n",
      "\u001B[1m8/8\u001B[0m \u001B[32m━━━━━━━━━━━━━━━━━━━━\u001B[0m\u001B[37m\u001B[0m \u001B[1m1s\u001B[0m 116ms/step - accuracy: 0.0713 - loss: 3.3012 - val_accuracy: 0.1250 - val_loss: 3.2105\n",
      "Epoch 3/10\n",
      "\u001B[1m8/8\u001B[0m \u001B[32m━━━━━━━━━━━━━━━━━━━━\u001B[0m\u001B[37m\u001B[0m \u001B[1m1s\u001B[0m 102ms/step - accuracy: 0.1614 - loss: 3.1575 - val_accuracy: 0.3304 - val_loss: 2.8066\n",
      "Epoch 4/10\n",
      "\u001B[1m8/8\u001B[0m \u001B[32m━━━━━━━━━━━━━━━━━━━━\u001B[0m\u001B[37m\u001B[0m \u001B[1m1s\u001B[0m 129ms/step - accuracy: 0.2202 - loss: 2.8078 - val_accuracy: 0.5089 - val_loss: 2.1466\n",
      "Epoch 5/10\n",
      "\u001B[1m8/8\u001B[0m \u001B[32m━━━━━━━━━━━━━━━━━━━━\u001B[0m\u001B[37m\u001B[0m \u001B[1m1s\u001B[0m 154ms/step - accuracy: 0.3597 - loss: 2.2128 - val_accuracy: 0.6875 - val_loss: 1.2995\n",
      "Epoch 6/10\n",
      "\u001B[1m8/8\u001B[0m \u001B[32m━━━━━━━━━━━━━━━━━━━━\u001B[0m\u001B[37m\u001B[0m \u001B[1m2s\u001B[0m 211ms/step - accuracy: 0.4843 - loss: 1.5723 - val_accuracy: 0.8125 - val_loss: 0.8991\n",
      "Epoch 7/10\n",
      "\u001B[1m8/8\u001B[0m \u001B[32m━━━━━━━━━━━━━━━━━━━━\u001B[0m\u001B[37m\u001B[0m \u001B[1m2s\u001B[0m 239ms/step - accuracy: 0.5869 - loss: 1.4157 - val_accuracy: 0.8438 - val_loss: 0.6883\n",
      "Epoch 8/10\n",
      "\u001B[1m8/8\u001B[0m \u001B[32m━━━━━━━━━━━━━━━━━━━━\u001B[0m\u001B[37m\u001B[0m \u001B[1m1s\u001B[0m 104ms/step - accuracy: 0.6672 - loss: 1.0613 - val_accuracy: 0.8705 - val_loss: 0.4855\n",
      "Epoch 9/10\n",
      "\u001B[1m8/8\u001B[0m \u001B[32m━━━━━━━━━━━━━━━━━━━━\u001B[0m\u001B[37m\u001B[0m \u001B[1m1s\u001B[0m 99ms/step - accuracy: 0.6182 - loss: 1.0888 - val_accuracy: 0.8973 - val_loss: 0.3930\n",
      "Epoch 10/10\n",
      "\u001B[1m8/8\u001B[0m \u001B[32m━━━━━━━━━━━━━━━━━━━━\u001B[0m\u001B[37m\u001B[0m \u001B[1m1s\u001B[0m 144ms/step - accuracy: 0.7333 - loss: 0.8659 - val_accuracy: 0.9062 - val_loss: 0.2701\n"
     ]
    }
   ],
   "source": [
    "epochs = 10\n",
    "history = model.fit(\n",
    "    train_dataset,\n",
    "    validation_data=val_dataset,\n",
    "    epochs=epochs\n",
    ")\n"
   ],
   "metadata": {
    "collapsed": false,
    "ExecuteTime": {
     "end_time": "2024-10-05T09:16:10.596738Z",
     "start_time": "2024-10-05T09:15:46.843883Z"
    }
   }
  },
  {
   "cell_type": "markdown",
   "source": [
    "# Evaluate the model on the validation set"
   ],
   "metadata": {
    "collapsed": false
   }
  },
  {
   "cell_type": "code",
   "execution_count": 24,
   "outputs": [
    {
     "name": "stdout",
     "output_type": "stream",
     "text": [
      "\u001B[1m7/7\u001B[0m \u001B[32m━━━━━━━━━━━━━━━━━━━━\u001B[0m\u001B[37m\u001B[0m \u001B[1m1s\u001B[0m 103ms/step - accuracy: 0.8952 - loss: 0.3052\n",
      "Validation accuracy: 0.9152\n"
     ]
    }
   ],
   "source": [
    "val_loss, val_acc = model.evaluate(val_dataset)\n",
    "print(f\"Validation accuracy: {val_acc:.4f}\")"
   ],
   "metadata": {
    "collapsed": false,
    "ExecuteTime": {
     "end_time": "2024-10-05T09:16:16.909704Z",
     "start_time": "2024-10-05T09:16:15.526313Z"
    }
   }
  },
  {
   "cell_type": "markdown",
   "source": [
    "# Save the trained model"
   ],
   "metadata": {
    "collapsed": false
   }
  },
  {
   "cell_type": "code",
   "execution_count": 26,
   "outputs": [],
   "source": [
    "# Save the model in the Keras format\n",
    "model.save('hebrew_letter_model.keras')"
   ],
   "metadata": {
    "collapsed": false,
    "ExecuteTime": {
     "end_time": "2024-10-05T09:17:09.556552Z",
     "start_time": "2024-10-05T09:17:08.842717Z"
    }
   }
  },
  {
   "cell_type": "markdown",
   "source": [
    "# Load the model"
   ],
   "metadata": {
    "collapsed": false
   }
  },
  {
   "cell_type": "code",
   "execution_count": null,
   "outputs": [],
   "source": [
    "from tensorflow.keras.models import load_model\n",
    "\n",
    "# Load the model saved in Keras format\n",
    "loaded_model = load_model('hebrew_letter_model.keras')\n",
    "\n",
    "# You can now use loaded_model for inference or further training\n"
   ],
   "metadata": {
    "collapsed": false
   }
  },
  {
   "cell_type": "markdown",
   "source": [
    "Load and Preprocess the Image"
   ],
   "metadata": {
    "collapsed": false
   }
  },
  {
   "cell_type": "code",
   "execution_count": 29,
   "outputs": [
    {
     "name": "stdout",
     "output_type": "stream",
     "text": [
      "Requirement already satisfied: Pillow in /Users/benni/miniconda3/envs/tf-m1/lib/python3.9/site-packages (10.4.0)\r\n"
     ]
    }
   ],
   "source": [
    "!pip install Pillow"
   ],
   "metadata": {
    "collapsed": false,
    "ExecuteTime": {
     "end_time": "2024-10-05T09:27:36.751488Z",
     "start_time": "2024-10-05T09:27:32.078900Z"
    }
   }
  },
  {
   "cell_type": "code",
   "execution_count": 35,
   "outputs": [
    {
     "name": "stdout",
     "output_type": "stream",
     "text": [
      "\u001B[1m1/1\u001B[0m \u001B[32m━━━━━━━━━━━━━━━━━━━━\u001B[0m\u001B[37m\u001B[0m \u001B[1m0s\u001B[0m 440ms/step\n",
      "The model predicts: ג\n"
     ]
    }
   ],
   "source": [
    "import numpy as np\n",
    "from tensorflow.keras.models import load_model\n",
    "from PIL import Image\n",
    "\n",
    "# Load the trained model\n",
    "model = load_model('hebrew_letter_model.keras')\n",
    "\n",
    "# Define image size (must match your training image size)\n",
    "img_height = 64\n",
    "img_width = 64\n",
    "\n",
    "# Load the image using Pillow\n",
    "img_path = 'hebrew_letters/ג/4.jpg'  # Replace with your actual image path\n",
    "img = Image.open(img_path)\n",
    "\n",
    "# Resize the image to match the model's input size\n",
    "img = img.resize((img_height, img_width))\n",
    "\n",
    "# Convert the image to a NumPy array\n",
    "img_array = np.array(img)\n",
    "\n",
    "# Add a batch dimension (the model expects (1, height, width, 3))\n",
    "img_array = np.expand_dims(img_array, axis=0)\n",
    "\n",
    "# Normalize the pixel values to the range [0, 1]\n",
    "img_array = img_array / 255.0\n",
    "\n",
    "# Make predictions using the loaded model\n",
    "predictions = model.predict(img_array)\n",
    "predicted_class = np.argmax(predictions, axis=1)\n",
    "\n",
    "# Assuming these are the class names (ensure they match your training labels)\n",
    "class_names = ['stop', 'א', 'ב', 'ג', 'ד', 'ה', 'ו', 'ז', 'ח', 'ט', 'י', 'ך', 'כ', 'ל', 'ם', 'מ', 'ן', 'נ', 'ס', 'ע', 'ף', 'פ', 'ץ', 'צ', 'ק', 'ר', 'ש', 'ת']\n",
    "\n",
    "# Get the predicted label\n",
    "predicted_label = class_names[predicted_class[0]]\n",
    "print(f\"The model predicts: {predicted_label}\")"
   ],
   "metadata": {
    "collapsed": false,
    "ExecuteTime": {
     "end_time": "2024-10-05T09:59:11.794690Z",
     "start_time": "2024-10-05T09:59:09.163539Z"
    }
   }
  },
  {
   "cell_type": "markdown",
   "source": [
    "Make a Prediction"
   ],
   "metadata": {
    "collapsed": false
   }
  },
  {
   "cell_type": "code",
   "execution_count": 36,
   "outputs": [
    {
     "name": "stdout",
     "output_type": "stream",
     "text": [
      "\u001B[1m1/1\u001B[0m \u001B[32m━━━━━━━━━━━━━━━━━━━━\u001B[0m\u001B[37m\u001B[0m \u001B[1m0s\u001B[0m 33ms/step\n"
     ]
    }
   ],
   "source": [
    "# Predict the class of the image\n",
    "predictions = model.predict(img_array)\n",
    "\n",
    "# The output will be a probability distribution, so we take the index of the highest probability\n",
    "predicted_class = np.argmax(predictions, axis=1)\n"
   ],
   "metadata": {
    "collapsed": false,
    "ExecuteTime": {
     "end_time": "2024-10-05T09:59:13.651165Z",
     "start_time": "2024-10-05T09:59:13.450738Z"
    }
   }
  },
  {
   "cell_type": "markdown",
   "source": [
    "Map the Prediction to Class Names"
   ],
   "metadata": {
    "collapsed": false
   }
  },
  {
   "cell_type": "code",
   "execution_count": 34,
   "outputs": [
    {
     "name": "stdout",
     "output_type": "stream",
     "text": [
      "The model predicts: ט\n"
     ]
    }
   ],
   "source": [
    "# Assuming you saved class_names from your training dataset\n",
    "class_names = ['stop', 'א', 'ב', 'ג', 'ד', 'ה', 'ו', 'ז', 'ח', 'ט', 'י', 'ך', 'כ', 'ל', 'ם', 'מ', 'ן', 'נ', 'ס', 'ע', 'ף', 'פ', 'ץ', 'צ', 'ק', 'ר', 'ש', 'ת']\n",
    "\n",
    "# Get the predicted class label\n",
    "predicted_label = class_names[predicted_class[0]]\n",
    "print(f\"The model predicts: {predicted_label}\")\n"
   ],
   "metadata": {
    "collapsed": false,
    "ExecuteTime": {
     "end_time": "2024-10-05T09:56:44.562136Z",
     "start_time": "2024-10-05T09:56:44.536534Z"
    }
   }
  },
  {
   "cell_type": "code",
   "execution_count": null,
   "outputs": [],
   "source": [],
   "metadata": {
    "collapsed": false
   }
  }
 ],
 "metadata": {
  "kernelspec": {
   "display_name": "Python 3",
   "language": "python",
   "name": "python3"
  },
  "language_info": {
   "codemirror_mode": {
    "name": "ipython",
    "version": 2
   },
   "file_extension": ".py",
   "mimetype": "text/x-python",
   "name": "python",
   "nbconvert_exporter": "python",
   "pygments_lexer": "ipython2",
   "version": "2.7.6"
  }
 },
 "nbformat": 4,
 "nbformat_minor": 0
}
